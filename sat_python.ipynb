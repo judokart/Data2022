{
  "nbformat": 4,
  "nbformat_minor": 0,
  "metadata": {
    "colab": {
      "provenance": [],
      "collapsed_sections": [],
      "authorship_tag": "ABX9TyOL8ljRGJes3cExlI3pzJLb",
      "include_colab_link": true
    },
    "kernelspec": {
      "name": "python3",
      "display_name": "Python 3"
    },
    "language_info": {
      "name": "python"
    }
  },
  "cells": [
    {
      "cell_type": "markdown",
      "metadata": {
        "id": "view-in-github",
        "colab_type": "text"
      },
      "source": [
        "<a href=\"https://colab.research.google.com/github/judokart/Data2022/blob/main/sat_python.ipynb\" target=\"_parent\"><img src=\"https://colab.research.google.com/assets/colab-badge.svg\" alt=\"Open In Colab\"/></a>"
      ]
    },
    {
      "cell_type": "markdown",
      "source": [
        "# **GETTING STARTED**"
      ],
      "metadata": {
        "id": "WlDUAAl3KJRg"
      }
    },
    {
      "cell_type": "code",
      "source": [
        "6+2"
      ],
      "metadata": {
        "colab": {
          "base_uri": "https://localhost:8080/"
        },
        "id": "v1OTQcjZLDPN",
        "outputId": "870bf3dd-016d-470c-9126-994a89d728c9"
      },
      "execution_count": null,
      "outputs": [
        {
          "output_type": "execute_result",
          "data": {
            "text/plain": [
              "8"
            ]
          },
          "metadata": {},
          "execution_count": 2
        }
      ]
    },
    {
      "cell_type": "code",
      "source": [
        "x=3\n",
        "y=4\n",
        "print(x+y)"
      ],
      "metadata": {
        "colab": {
          "base_uri": "https://localhost:8080/"
        },
        "id": "C5cy8A-lLQG6",
        "outputId": "8e3154a4-78ac-48f6-aa50-bb7d08cef830"
      },
      "execution_count": null,
      "outputs": [
        {
          "output_type": "stream",
          "name": "stdout",
          "text": [
            "7\n"
          ]
        }
      ]
    },
    {
      "cell_type": "code",
      "source": [
        "f = 4\n",
        "\n"
      ],
      "metadata": {
        "colab": {
          "base_uri": "https://localhost:8080/",
          "height": 134
        },
        "id": "-RhUDY92fFsE",
        "outputId": "3afddaf8-4b68-4ac1-d269-930f5206a1e9"
      },
      "execution_count": null,
      "outputs": [
        {
          "output_type": "error",
          "ename": "SyntaxError",
          "evalue": "ignored",
          "traceback": [
            "\u001b[0;36m  File \u001b[0;32m\"<ipython-input-22-f0689a751655>\"\u001b[0;36m, line \u001b[0;32m2\u001b[0m\n\u001b[0;31m    is f odd or even number\u001b[0m\n\u001b[0m     ^\u001b[0m\n\u001b[0;31mSyntaxError\u001b[0m\u001b[0;31m:\u001b[0m invalid syntax\n"
          ]
        }
      ]
    },
    {
      "cell_type": "code",
      "source": [
        "jj =[1,2,4]\n",
        "type(jj)"
      ],
      "metadata": {
        "colab": {
          "base_uri": "https://localhost:8080/"
        },
        "id": "KElwsx4PZlfw",
        "outputId": "deb4bed6-f654-4ac9-b933-b864dc58019d"
      },
      "execution_count": null,
      "outputs": [
        {
          "output_type": "execute_result",
          "data": {
            "text/plain": [
              "list"
            ]
          },
          "metadata": {},
          "execution_count": 5
        }
      ]
    },
    {
      "cell_type": "code",
      "source": [
        "jj[0]"
      ],
      "metadata": {
        "colab": {
          "base_uri": "https://localhost:8080/"
        },
        "id": "5BZbSG-vZvaY",
        "outputId": "47bef800-f480-4b6d-a993-b1f415546523"
      },
      "execution_count": null,
      "outputs": [
        {
          "output_type": "execute_result",
          "data": {
            "text/plain": [
              "1"
            ]
          },
          "metadata": {},
          "execution_count": 6
        }
      ]
    },
    {
      "cell_type": "code",
      "source": [
        "jj =[1,2,4]\n",
        "jj[0]=\"Hello\"\n",
        "print(jj)\n",
        "\n"
      ],
      "metadata": {
        "colab": {
          "base_uri": "https://localhost:8080/"
        },
        "id": "Xt78foIOZ0WT",
        "outputId": "3cd62905-11ab-475c-c142-cfcd5c634937"
      },
      "execution_count": null,
      "outputs": [
        {
          "output_type": "stream",
          "name": "stdout",
          "text": [
            "['Hello', 2, 4]\n"
          ]
        }
      ]
    },
    {
      "cell_type": "code",
      "source": [
        "school ={\"student\":\"Mary\", \"grade\":80}\n",
        "school.update({\"course\" :\"python\"})\n",
        "print (school)"
      ],
      "metadata": {
        "colab": {
          "base_uri": "https://localhost:8080/"
        },
        "id": "aMhHYPHgbBc2",
        "outputId": "16b17985-9e20-4473-ef56-9562abcd12e4"
      },
      "execution_count": null,
      "outputs": [
        {
          "output_type": "stream",
          "name": "stdout",
          "text": [
            "{'student': 'Mary', 'grade': 80, 'course': 'python'}\n"
          ]
        }
      ]
    },
    {
      "cell_type": "code",
      "source": [],
      "metadata": {
        "id": "pPxtZF1oiZ_7"
      },
      "execution_count": null,
      "outputs": []
    },
    {
      "cell_type": "code",
      "source": [
        "fruit = {\"apple\", \"mango\", \"cherry\"}\n",
        "type(fruit)\n",
        "fruit.add(\"banana\")\n",
        "print (fruit)"
      ],
      "metadata": {
        "colab": {
          "base_uri": "https://localhost:8080/"
        },
        "id": "aA2Til9ZcgTm",
        "outputId": "bd5cd636-c39d-455d-9f37-3ad29972e75f"
      },
      "execution_count": null,
      "outputs": [
        {
          "output_type": "stream",
          "name": "stdout",
          "text": [
            "{'mango', 'banana', 'apple', 'cherry'}\n"
          ]
        }
      ]
    },
    {
      "cell_type": "code",
      "source": [
        "tuple1 =(\"apple\",\"cherry\",\"orange\")\n",
        "tuple1[2]"
      ],
      "metadata": {
        "colab": {
          "base_uri": "https://localhost:8080/",
          "height": 35
        },
        "id": "BQZSebWsiblk",
        "outputId": "352755cb-f3c5-4f31-f963-846772c29a71"
      },
      "execution_count": null,
      "outputs": [
        {
          "output_type": "execute_result",
          "data": {
            "text/plain": [
              "'orange'"
            ],
            "application/vnd.google.colaboratory.intrinsic+json": {
              "type": "string"
            }
          },
          "metadata": {},
          "execution_count": 25
        }
      ]
    },
    {
      "cell_type": "code",
      "source": [
        "country_name = \"united kigdom\"\n",
        "city_name = \"london\"\n",
        "print(country_name)"
      ],
      "metadata": {
        "colab": {
          "base_uri": "https://localhost:8080/"
        },
        "id": "JU7i232vk1Ek",
        "outputId": "0d73ff2c-7e92-4435-e8e8-6582e7527bbf"
      },
      "execution_count": null,
      "outputs": [
        {
          "output_type": "stream",
          "name": "stdout",
          "text": [
            "united kigdom\n"
          ]
        }
      ]
    },
    {
      "cell_type": "code",
      "source": [
        "print(city_name)"
      ],
      "metadata": {
        "colab": {
          "base_uri": "https://localhost:8080/"
        },
        "id": "pp7v2muFlIn1",
        "outputId": "4cc5cf75-a72b-4fb4-e9f3-5ba7b980b852"
      },
      "execution_count": null,
      "outputs": [
        {
          "output_type": "stream",
          "name": "stdout",
          "text": [
            "london\n"
          ]
        }
      ]
    },
    {
      "cell_type": "code",
      "source": [
        "len(country_name)"
      ],
      "metadata": {
        "colab": {
          "base_uri": "https://localhost:8080/"
        },
        "id": "rRg52MAKlNqf",
        "outputId": "6ca763c8-7e2e-43b3-a32e-3687e510226a"
      },
      "execution_count": null,
      "outputs": [
        {
          "output_type": "execute_result",
          "data": {
            "text/plain": [
              "13"
            ]
          },
          "metadata": {},
          "execution_count": 28
        }
      ]
    },
    {
      "cell_type": "code",
      "source": [
        "num =-455\n",
        "str(num)"
      ],
      "metadata": {
        "colab": {
          "base_uri": "https://localhost:8080/",
          "height": 35
        },
        "id": "tEhptIJJlt04",
        "outputId": "5fce59ac-af8a-49e2-da8a-f44948cd8f43"
      },
      "execution_count": null,
      "outputs": [
        {
          "output_type": "execute_result",
          "data": {
            "text/plain": [
              "'-455'"
            ],
            "application/vnd.google.colaboratory.intrinsic+json": {
              "type": "string"
            }
          },
          "metadata": {},
          "execution_count": 29
        }
      ]
    },
    {
      "cell_type": "code",
      "source": [
        "num1=-4.24\n",
        "int(num1)"
      ],
      "metadata": {
        "colab": {
          "base_uri": "https://localhost:8080/"
        },
        "id": "wp3n2dzhmOVl",
        "outputId": "c781b124-3182-4fcd-bd63-17dac2d31478"
      },
      "execution_count": null,
      "outputs": [
        {
          "output_type": "execute_result",
          "data": {
            "text/plain": [
              "-4"
            ]
          },
          "metadata": {},
          "execution_count": 30
        }
      ]
    },
    {
      "cell_type": "code",
      "source": [
        "\"10\" + \"3\""
      ],
      "metadata": {
        "colab": {
          "base_uri": "https://localhost:8080/",
          "height": 35
        },
        "id": "9SDvQR_JoJMu",
        "outputId": "032bb3a3-75e1-4033-8a0f-9d6da2aee4fc"
      },
      "execution_count": null,
      "outputs": [
        {
          "output_type": "execute_result",
          "data": {
            "text/plain": [
              "'103'"
            ],
            "application/vnd.google.colaboratory.intrinsic+json": {
              "type": "string"
            }
          },
          "metadata": {},
          "execution_count": 31
        }
      ]
    },
    {
      "cell_type": "code",
      "source": [
        "print(\"Their apparent \\\"intention\\\" was not honest\")"
      ],
      "metadata": {
        "colab": {
          "base_uri": "https://localhost:8080/"
        },
        "id": "piOfEZbLoqOo",
        "outputId": "c3655d79-d4d7-4cca-a160-d59cc09e18d8"
      },
      "execution_count": null,
      "outputs": [
        {
          "output_type": "stream",
          "name": "stdout",
          "text": [
            "Their apparent \"intention\" was not honest\n"
          ]
        }
      ]
    },
    {
      "cell_type": "code",
      "source": [
        "print(\"This is my new line\\nDo you like it\")"
      ],
      "metadata": {
        "colab": {
          "base_uri": "https://localhost:8080/"
        },
        "id": "QADl33_UpEoN",
        "outputId": "9108abd8-dc61-48ea-95dd-b3c3dfcb3114"
      },
      "execution_count": null,
      "outputs": [
        {
          "output_type": "stream",
          "name": "stdout",
          "text": [
            "This is my new line\n",
            "Do you like it\n"
          ]
        }
      ]
    },
    {
      "cell_type": "code",
      "source": [
        "print(\"today is 5 \\bth of November\")"
      ],
      "metadata": {
        "colab": {
          "base_uri": "https://localhost:8080/"
        },
        "id": "F7GeZxYMpW9u",
        "outputId": "5c60e6ed-354a-4247-f7e9-1a6cf45c27a1"
      },
      "execution_count": null,
      "outputs": [
        {
          "output_type": "stream",
          "name": "stdout",
          "text": [
            "today is 5 \bth of November\n"
          ]
        }
      ]
    },
    {
      "cell_type": "code",
      "source": [
        "print(\"today is 5th of \\tNovember\")"
      ],
      "metadata": {
        "colab": {
          "base_uri": "https://localhost:8080/"
        },
        "id": "8NA1hkoltPyv",
        "outputId": "381ab13a-7ea7-4939-9328-0fb173e76f76"
      },
      "execution_count": null,
      "outputs": [
        {
          "output_type": "stream",
          "name": "stdout",
          "text": [
            "today is 5th of \tNovember\n"
          ]
        }
      ]
    },
    {
      "cell_type": "code",
      "source": [
        "mystring1=\"HELLO\"\n",
        "mystring1[1]"
      ],
      "metadata": {
        "colab": {
          "base_uri": "https://localhost:8080/",
          "height": 35
        },
        "id": "SxCBiZWWtcO5",
        "outputId": "87931479-12dd-4ce8-82f6-04f93373caa9"
      },
      "execution_count": null,
      "outputs": [
        {
          "output_type": "execute_result",
          "data": {
            "text/plain": [
              "'E'"
            ],
            "application/vnd.google.colaboratory.intrinsic+json": {
              "type": "string"
            }
          },
          "metadata": {},
          "execution_count": 42
        }
      ]
    },
    {
      "cell_type": "code",
      "source": [
        "mystring1=\"HELLO\"\n",
        "mystring1[-3]"
      ],
      "metadata": {
        "colab": {
          "base_uri": "https://localhost:8080/",
          "height": 35
        },
        "id": "__ynYeXFuE75",
        "outputId": "ed2e1dd9-2b4f-49f4-ab56-2db2cef8da3e"
      },
      "execution_count": null,
      "outputs": [
        {
          "output_type": "execute_result",
          "data": {
            "text/plain": [
              "'L'"
            ],
            "application/vnd.google.colaboratory.intrinsic+json": {
              "type": "string"
            }
          },
          "metadata": {},
          "execution_count": 43
        }
      ]
    },
    {
      "cell_type": "code",
      "source": [
        "mystring1=\"HELLO\"\n",
        "mystring1[0:3]"
      ],
      "metadata": {
        "colab": {
          "base_uri": "https://localhost:8080/",
          "height": 35
        },
        "id": "rvIFjH_huUhz",
        "outputId": "68b24cc9-2a05-401f-af67-cd4d732aa0dd"
      },
      "execution_count": null,
      "outputs": [
        {
          "output_type": "execute_result",
          "data": {
            "text/plain": [
              "'HEL'"
            ],
            "application/vnd.google.colaboratory.intrinsic+json": {
              "type": "string"
            }
          },
          "metadata": {},
          "execution_count": 44
        }
      ]
    },
    {
      "cell_type": "code",
      "source": [
        "mystring1=\"HELLO\"\n",
        "mystring1[::3]"
      ],
      "metadata": {
        "colab": {
          "base_uri": "https://localhost:8080/",
          "height": 35
        },
        "id": "Yu0-wCX_vmpP",
        "outputId": "e72c3154-4b9f-4525-acda-3e6189b2d277"
      },
      "execution_count": null,
      "outputs": [
        {
          "output_type": "execute_result",
          "data": {
            "text/plain": [
              "'HL'"
            ],
            "application/vnd.google.colaboratory.intrinsic+json": {
              "type": "string"
            }
          },
          "metadata": {},
          "execution_count": 45
        }
      ]
    },
    {
      "cell_type": "code",
      "source": [
        "mystring1=\"HELLO\"\n",
        "mystring1[::2]"
      ],
      "metadata": {
        "colab": {
          "base_uri": "https://localhost:8080/",
          "height": 35
        },
        "id": "Mdh5tWUwv8Cr",
        "outputId": "eeda248d-4018-418b-be3b-d5689b2fc84e"
      },
      "execution_count": null,
      "outputs": [
        {
          "output_type": "execute_result",
          "data": {
            "text/plain": [
              "'HLO'"
            ],
            "application/vnd.google.colaboratory.intrinsic+json": {
              "type": "string"
            }
          },
          "metadata": {},
          "execution_count": 46
        }
      ]
    },
    {
      "cell_type": "code",
      "source": [
        "mystring1=\"HELLO\"\n",
        "mystring1[1:3:2]"
      ],
      "metadata": {
        "colab": {
          "base_uri": "https://localhost:8080/",
          "height": 35
        },
        "id": "BpLRQWsAwSrK",
        "outputId": "c4966723-7c8d-485f-fd15-1e23dd8c4ebf"
      },
      "execution_count": null,
      "outputs": [
        {
          "output_type": "execute_result",
          "data": {
            "text/plain": [
              "'E'"
            ],
            "application/vnd.google.colaboratory.intrinsic+json": {
              "type": "string"
            }
          },
          "metadata": {},
          "execution_count": 47
        }
      ]
    },
    {
      "cell_type": "code",
      "source": [
        "mystring1=\"HELLO\"\n",
        "mystring1[::1]"
      ],
      "metadata": {
        "colab": {
          "base_uri": "https://localhost:8080/",
          "height": 35
        },
        "id": "EkTuSdS3xl3w",
        "outputId": "a21da4eb-ec56-4e81-a784-e140de5b391d"
      },
      "execution_count": null,
      "outputs": [
        {
          "output_type": "execute_result",
          "data": {
            "text/plain": [
              "'HELLO'"
            ],
            "application/vnd.google.colaboratory.intrinsic+json": {
              "type": "string"
            }
          },
          "metadata": {},
          "execution_count": 50
        }
      ]
    },
    {
      "cell_type": "code",
      "source": [
        "mystring1=\"HELLO\"\n",
        "mystring1[::-1]"
      ],
      "metadata": {
        "colab": {
          "base_uri": "https://localhost:8080/",
          "height": 35
        },
        "id": "Xp8hK4-Xx5ln",
        "outputId": "7aae01c3-ce25-4b30-fbdf-e7b31e57e60d"
      },
      "execution_count": null,
      "outputs": [
        {
          "output_type": "execute_result",
          "data": {
            "text/plain": [
              "'OLLEH'"
            ],
            "application/vnd.google.colaboratory.intrinsic+json": {
              "type": "string"
            }
          },
          "metadata": {},
          "execution_count": 51
        }
      ]
    },
    {
      "cell_type": "code",
      "source": [
        "str1 = \"Hello, today is\"\n",
        "str2 = \" 5th of November\"\n",
        "print(str1 + str2)"
      ],
      "metadata": {
        "colab": {
          "base_uri": "https://localhost:8080/"
        },
        "id": "JaWNMWDJy7_z",
        "outputId": "4cf87192-1d26-4b01-8765-6ef423a7767e"
      },
      "execution_count": null,
      "outputs": [
        {
          "output_type": "stream",
          "name": "stdout",
          "text": [
            "Hello, today is 5th of November\n"
          ]
        }
      ]
    },
    {
      "cell_type": "code",
      "source": [
        "str3= \"write this 4 times\\n\"\n",
        "print(str3*4)"
      ],
      "metadata": {
        "colab": {
          "base_uri": "https://localhost:8080/"
        },
        "id": "lkyOuT0hzX5h",
        "outputId": "c824961c-568e-48df-9ba9-5333b8529ab9"
      },
      "execution_count": null,
      "outputs": [
        {
          "output_type": "stream",
          "name": "stdout",
          "text": [
            "write this 4 times\n",
            "write this 4 times\n",
            "write this 4 times\n",
            "write this 4 times\n",
            "\n"
          ]
        }
      ]
    },
    {
      "cell_type": "code",
      "source": [
        "strg5 = \"Hey this is a string\"\n",
        "strg5.capitalize()"
      ],
      "metadata": {
        "colab": {
          "base_uri": "https://localhost:8080/",
          "height": 35
        },
        "id": "cOO5ey-x1R_8",
        "outputId": "c0157f30-36ff-4582-e842-e5745c650bfc"
      },
      "execution_count": null,
      "outputs": [
        {
          "output_type": "execute_result",
          "data": {
            "text/plain": [
              "'Hey this is a string'"
            ],
            "application/vnd.google.colaboratory.intrinsic+json": {
              "type": "string"
            }
          },
          "metadata": {},
          "execution_count": 54
        }
      ]
    },
    {
      "cell_type": "code",
      "source": [
        "strg5 = \"Hey this is a string\"\n",
        "strg5.upper()"
      ],
      "metadata": {
        "colab": {
          "base_uri": "https://localhost:8080/",
          "height": 35
        },
        "id": "0MUW0jgI1d1O",
        "outputId": "29833ee7-66da-40e2-975b-a91d86a7691a"
      },
      "execution_count": null,
      "outputs": [
        {
          "output_type": "execute_result",
          "data": {
            "text/plain": [
              "'HEY THIS IS A STRING'"
            ],
            "application/vnd.google.colaboratory.intrinsic+json": {
              "type": "string"
            }
          },
          "metadata": {},
          "execution_count": 55
        }
      ]
    },
    {
      "cell_type": "code",
      "source": [
        "strg5 = \"Hey this is a string\"\n",
        "strg5.lower()"
      ],
      "metadata": {
        "colab": {
          "base_uri": "https://localhost:8080/",
          "height": 35
        },
        "id": "J-UM9ywg1kbc",
        "outputId": "50e506ce-fa33-4230-aa3b-40faa80deb11"
      },
      "execution_count": null,
      "outputs": [
        {
          "output_type": "execute_result",
          "data": {
            "text/plain": [
              "'hey this is a string'"
            ],
            "application/vnd.google.colaboratory.intrinsic+json": {
              "type": "string"
            }
          },
          "metadata": {},
          "execution_count": 56
        }
      ]
    },
    {
      "cell_type": "code",
      "source": [
        "strg5 = \"Hey this is a string\"\n",
        "strg5.find(\"i\")"
      ],
      "metadata": {
        "colab": {
          "base_uri": "https://localhost:8080/"
        },
        "id": "iwNfA-vl12-E",
        "outputId": "5a50647b-6ea8-487b-f037-57083b84a4e4"
      },
      "execution_count": null,
      "outputs": [
        {
          "output_type": "execute_result",
          "data": {
            "text/plain": [
              "6"
            ]
          },
          "metadata": {},
          "execution_count": 58
        }
      ]
    },
    {
      "cell_type": "code",
      "source": [
        "strg5 = \"Hey this is a string\"\n",
        "strg5.index(\"a\")"
      ],
      "metadata": {
        "colab": {
          "base_uri": "https://localhost:8080/"
        },
        "id": "qac1fFY02IRm",
        "outputId": "36ff73e4-f9f5-4c77-f049-89892016ca15"
      },
      "execution_count": null,
      "outputs": [
        {
          "output_type": "execute_result",
          "data": {
            "text/plain": [
              "12"
            ]
          },
          "metadata": {},
          "execution_count": 61
        }
      ]
    },
    {
      "cell_type": "code",
      "source": [
        "strg5 = \"Hey this is a string\"\n",
        "strg5.count(\"a\")"
      ],
      "metadata": {
        "colab": {
          "base_uri": "https://localhost:8080/"
        },
        "id": "k3GHGOny37pc",
        "outputId": "b5479b5c-5fd2-4b76-e4b3-c7648491861c"
      },
      "execution_count": null,
      "outputs": [
        {
          "output_type": "execute_result",
          "data": {
            "text/plain": [
              "1"
            ]
          },
          "metadata": {},
          "execution_count": 62
        }
      ]
    },
    {
      "cell_type": "code",
      "source": [
        "strg7 = \"My salry is {} next year\"\n",
        "salry =5000\n",
        "print(strg7.format(salry))"
      ],
      "metadata": {
        "colab": {
          "base_uri": "https://localhost:8080/"
        },
        "id": "2wC6v58348hc",
        "outputId": "413e6a59-e9f2-4d55-c980-e5595d885a92"
      },
      "execution_count": null,
      "outputs": [
        {
          "output_type": "stream",
          "name": "stdout",
          "text": [
            "My salry is 5000 next year\n"
          ]
        }
      ]
    },
    {
      "cell_type": "code",
      "source": [
        "strg7 = \"My salry is {} next year\"\n",
        "salry =5000\n",
        "print(strg7.format(salry))\n"
      ],
      "metadata": {
        "id": "zf9RTD1A6K_6"
      },
      "execution_count": null,
      "outputs": []
    },
    {
      "cell_type": "code",
      "source": [
        "str8 = \"I bought {a} kg of {b} that cost {c} pounds\"\n",
        "product = \"apples\"\n",
        "weight = 10\n",
        "cost = 20\n",
        "print(str8.format(b=product,a=weight,c=cost))"
      ],
      "metadata": {
        "colab": {
          "base_uri": "https://localhost:8080/"
        },
        "id": "8T9cXWV96f0i",
        "outputId": "ff9eac10-b6cb-4e6f-ed70-a0460ead2151"
      },
      "execution_count": null,
      "outputs": [
        {
          "output_type": "stream",
          "name": "stdout",
          "text": [
            "I bought 10 kg of apples that cost 20 pounds\n"
          ]
        }
      ]
    },
    {
      "cell_type": "code",
      "source": [
        "x=4\n",
        "y=8\n",
        "9>x and 9>y"
      ],
      "metadata": {
        "colab": {
          "base_uri": "https://localhost:8080/"
        },
        "id": "G6e71BhD9SCT",
        "outputId": "c1d8d1e8-a7cc-4e5e-dbc6-c69db6fc0ed5"
      },
      "execution_count": null,
      "outputs": [
        {
          "output_type": "execute_result",
          "data": {
            "text/plain": [
              "True"
            ]
          },
          "metadata": {},
          "execution_count": 65
        }
      ]
    },
    {
      "cell_type": "code",
      "source": [
        "x=4\n",
        "y=8\n",
        "7>x or 9>y"
      ],
      "metadata": {
        "colab": {
          "base_uri": "https://localhost:8080/"
        },
        "id": "Fy4nIf0U9eXk",
        "outputId": "e631defe-3973-47ef-ff14-830b86f5323d"
      },
      "execution_count": null,
      "outputs": [
        {
          "output_type": "execute_result",
          "data": {
            "text/plain": [
              "True"
            ]
          },
          "metadata": {},
          "execution_count": 66
        }
      ]
    },
    {
      "cell_type": "code",
      "source": [
        "x=4\n",
        "y=8\n",
        "not(x==y)"
      ],
      "metadata": {
        "colab": {
          "base_uri": "https://localhost:8080/"
        },
        "id": "uCsbAas8-CFr",
        "outputId": "c0f2f976-d1f4-4e42-923b-25120e7530f7"
      },
      "execution_count": null,
      "outputs": [
        {
          "output_type": "execute_result",
          "data": {
            "text/plain": [
              "True"
            ]
          },
          "metadata": {},
          "execution_count": 67
        }
      ]
    },
    {
      "cell_type": "markdown",
      "source": [
        "# New section"
      ],
      "metadata": {
        "id": "xbNwblnNKV_l"
      }
    }
  ]
}